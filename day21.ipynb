{
 "cells": [
  {
   "cell_type": "code",
   "execution_count": 439,
   "metadata": {
    "collapsed": true
   },
   "outputs": [],
   "source": [
    "with open(\"res/21_1.txt\") as f:\n",
    "    lines = f.read().split(\"\\n\")"
   ]
  },
  {
   "cell_type": "code",
   "execution_count": 440,
   "outputs": [],
   "source": [
    "from collections import defaultdict\n",
    "\n",
    "to_compute = {}\n",
    "available = {}\n",
    "dependant = defaultdict(list)\n",
    "for line in lines:\n",
    "    monkey, *rest = line.split()\n",
    "    monkey = monkey[:-1]\n",
    "    if len(rest) > 1:\n",
    "        first, op, second = rest\n",
    "        dependant[first].append(monkey)\n",
    "        dependant[second].append(monkey)\n",
    "        to_compute[monkey] = rest\n",
    "    else:\n",
    "        available[monkey] = rest[0]"
   ],
   "metadata": {
    "collapsed": false
   }
  },
  {
   "cell_type": "code",
   "execution_count": 441,
   "outputs": [],
   "source": [
    "import operator\n",
    "\n",
    "operations = {\"+\": operator.add, \"-\": operator.sub, \"*\": operator.mul, \"/\": operator.floordiv}\n",
    "reverse_operations = {\"-\": \"+\", \"+\": \"-\", \"/\": \"*\", \"*\": \"/\"}\n",
    "def find_available(available, to_compute, part_two=False):\n",
    "    available = available.copy()\n",
    "    to_compute = to_compute.copy()\n",
    "    while len(to_compute) != 0:\n",
    "        tmp = {}\n",
    "        for key in available:\n",
    "            monkey_list = dependant[key]\n",
    "            for monkey in monkey_list:\n",
    "                if monkey in available or monkey in tmp:\n",
    "                    continue\n",
    "                first, op, second = to_compute[monkey]\n",
    "                if (first != key and first in available) or (second != key and second in available):\n",
    "                    if part_two:\n",
    "                        tmp[monkey] = available[first] if first != 'humn' else 'humn', available[second] if second != 'humn' else 'humn', op\n",
    "                    else:\n",
    "                        tmp[monkey] = available[first], available[second], op\n",
    "                    del to_compute[monkey]\n",
    "        available.update(tmp)\n",
    "    return available"
   ],
   "metadata": {
    "collapsed": false
   }
  },
  {
   "cell_type": "code",
   "execution_count": 442,
   "outputs": [],
   "source": [
    "def calc(x, y, sign):\n",
    "    if x != 'humn':\n",
    "        x = int(x) if type(x) in (str, int) else calc(*x)\n",
    "    if y != 'humn':\n",
    "        y = int(y) if type(y) in (str, int) else calc(*y)\n",
    "    if type(x) == type(y) == int:\n",
    "        return operations.get(sign)(x,y)\n",
    "    return x, y, sign"
   ],
   "metadata": {
    "collapsed": false
   }
  },
  {
   "cell_type": "code",
   "execution_count": 443,
   "outputs": [],
   "source": [
    "def reverse_calc(first, second, sign, accumulated):\n",
    "    if first == 'humn':\n",
    "        accumulated[0] = (accumulated[0], second, reverse_operations[sign])\n",
    "        return\n",
    "    if second == 'humn':\n",
    "        if sign == '/':\n",
    "            accumulated[0] = (first, accumulated[0], sign)\n",
    "        else:\n",
    "            accumulated[0] = (first, accumulated[0], reverse_operations[sign])\n",
    "        return\n",
    "    if type(first) == int:\n",
    "        if sign in ('/', '-'):\n",
    "            accumulated[0] = (first, accumulated[0], sign)\n",
    "        else:\n",
    "            accumulated[0] = (accumulated[0], first, reverse_operations[sign])\n",
    "        reverse_calc(*second, accumulated)\n",
    "        return\n",
    "    if type(second) == int:\n",
    "        accumulated[0] = (accumulated[0], second, reverse_operations[sign])\n",
    "        reverse_calc(*first, accumulated)\n",
    "        return\n",
    "    assert 0"
   ],
   "metadata": {
    "collapsed": false
   }
  },
  {
   "cell_type": "code",
   "execution_count": 444,
   "outputs": [
    {
     "data": {
      "text/plain": "331319379445180",
      "image/png": "[encoded data removed]",
      "text/latex": "$\\displaystyle 331319379445180$"
     },
     "execution_count": 444,
     "metadata": {},
     "output_type": "execute_result"
    }
   ],
   "source": [
    "bef = find_available(available, to_compute)['root']\n",
    "calc(*bef)"
   ],
   "metadata": {
    "collapsed": false
   }
  },
  {
   "cell_type": "code",
   "execution_count": 445,
   "outputs": [
    {
     "data": {
      "text/plain": "3715799488059",
      "image/png": "[encoded data removed]",
      "text/latex": "$\\displaystyle 3715799488059$"
     },
     "execution_count": 445,
     "metadata": {},
     "output_type": "execute_result"
    }
   ],
   "source": [
    "acc = [0]\n",
    "bef = find_available(available, to_compute, part_two=True)['root']\n",
    "reverse_calc(*calc(*bef)[:-1], '-', acc)\n",
    "calc(*acc[0][0])"
   ],
   "metadata": {
    "collapsed": false
   }
  }
 ],
 "metadata": {
  "kernelspec": {
   "display_name": "Python 3",
   "language": "python",
   "name": "python3"
  },
  "language_info": {
   "codemirror_mode": {
    "name": "ipython",
    "version": 2
   },
   "file_extension": ".py",
   "mimetype": "text/x-python",
   "name": "python",
   "nbconvert_exporter": "python",
   "pygments_lexer": "ipython2",
   "version": "2.7.6"
  }
 },
 "nbformat": 4,
 "nbformat_minor": 0
}
