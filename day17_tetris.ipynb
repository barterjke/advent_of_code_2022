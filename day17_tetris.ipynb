{
 "cells": [
  {
   "cell_type": "code",
   "execution_count": 36,
   "metadata": {
    "collapsed": true
   },
   "outputs": [],
   "source": [
    "spawn_start = 0\n",
    "\n",
    "\n",
    "def spawn():\n",
    "    while True:\n",
    "        yield [(2 + i, spawn_start) for i in range(4)]  # -\n",
    "        yield [(3, spawn_start - i) for i in range(3)] + [(2 + i, spawn_start - 1) for i in range(3)]  # +\n",
    "        yield [(4, spawn_start - i) for i in range(3)] + [(2 + i, spawn_start - 2) for i in\n",
    "                                                          range(3)]  # reversed L shape\n",
    "        yield [(2, spawn_start - i) for i in range(4)]  # | shape\n",
    "        yield [(2, spawn_start - i) for i in range(2)] + [(3, spawn_start - i) for i in range(2)]  # cube shape"
   ]
  },
  {
   "cell_type": "code",
   "execution_count": 37,
   "outputs": [],
   "source": [
    "def get_height_of_next_spawned_figure():\n",
    "    return cycle([1, 3, 3, 4, 2])"
   ],
   "metadata": {
    "collapsed": false
   }
  },
  {
   "cell_type": "code",
   "execution_count": 38,
   "outputs": [],
   "source": [
    "import copy\n",
    "import numpy as np\n",
    "\n",
    "\n",
    "def draw(grid):\n",
    "    grid = copy.deepcopy(grid)\n",
    "    return np.flip(grid, 1).transpose()"
   ],
   "metadata": {
    "collapsed": false
   }
  },
  {
   "cell_type": "code",
   "execution_count": 39,
   "outputs": [],
   "source": [
    "def find_last_line_index(grid):\n",
    "    for i in range(grid.shape[1]):\n",
    "        if \"#\" in grid[:, - i - 1]:\n",
    "            return grid.shape[1] - i\n",
    "    return 0"
   ],
   "metadata": {
    "collapsed": false
   }
  },
  {
   "cell_type": "code",
   "execution_count": 40,
   "outputs": [],
   "source": [
    "def move(figure, jets_gen):\n",
    "    movable = True\n",
    "    flag = True\n",
    "    while movable:\n",
    "        for x, y in figure:\n",
    "            matrix[x, y] = '@'\n",
    "        dir_x, dir_y = (next(jets_gen), 0) if flag else (0, -1)\n",
    "        next_figure = []\n",
    "        for x, y in figure:\n",
    "            next_x, next_y = dir_x + x, dir_y + y\n",
    "            next_figure.append((next_x, next_y))\n",
    "            movable = movable and (0 <= next_x < 7) and (0 <= next_y < matrix.shape[1]) \\\n",
    "                      and matrix[next_x, next_y] in ('.', '@')\n",
    "        if movable:\n",
    "            for x, y in figure:\n",
    "                matrix[x, y] = '.'\n",
    "        figure = next_figure if movable else figure\n",
    "        movable = movable or flag\n",
    "        flag = not flag\n",
    "    for x, y in figure:\n",
    "        matrix[x, y] = '#'"
   ],
   "metadata": {
    "collapsed": false
   }
  },
  {
   "cell_type": "code",
   "execution_count": 41,
   "outputs": [],
   "source": [
    "from itertools import cycle\n",
    "\n",
    "with open(\"17_0.txt\") as f:\n",
    "    jets = list(map(lambda x: -1 if x == '<' else 1, f.read()))"
   ],
   "metadata": {
    "collapsed": false
   }
  },
  {
   "cell_type": "code",
   "execution_count": 42,
   "outputs": [
    {
     "data": {
      "text/plain": "array([['.', '.', '.', ..., '.', '.', '.'],\n       ['.', '.', '.', ..., '.', '.', '.'],\n       ['.', '.', '.', ..., '.', '.', '.'],\n       ...,\n       ['.', '.', '#', ..., '#', '.', '.'],\n       ['.', '.', '.', ..., '.', '.', '.'],\n       ['.', '.', '#', ..., '#', '#', '.']], dtype='<U1')"
     },
     "execution_count": 42,
     "metadata": {},
     "output_type": "execute_result"
    }
   ],
   "source": [
    "matrix = np.array([['.' for _ in range(2)] for _ in range(7)])\n",
    "spawn_gen = spawn()\n",
    "jets_gen = cycle(jets)\n",
    "rocks_counter = 0\n",
    "height_gen = get_height_of_next_spawned_figure()\n",
    "for i in range(2022):  #1_000_000_000_000\n",
    "    ind = find_last_line_index(matrix)\n",
    "    global spawn_start\n",
    "    h = next(height_gen)\n",
    "    spawn_start = ind + 3 + h - 1\n",
    "    dif = ind + 3 + h - matrix.shape[1]\n",
    "    if dif > 0:\n",
    "        matrix = np.c_[matrix, np.full((7, dif), '.')]\n",
    "    figure = next(spawn_gen)\n",
    "    move(figure, jets_gen)\n",
    "# find_last_line_index(matrix)\n",
    "draw(matrix)"
   ],
   "metadata": {
    "collapsed": false
   }
  },
  {
   "cell_type": "code",
   "execution_count": 43,
   "outputs": [
    {
     "data": {
      "text/plain": "1535"
     },
     "execution_count": 43,
     "metadata": {},
     "output_type": "execute_result"
    }
   ],
   "source": [
    "matrix.shape[1] // 2"
   ],
   "metadata": {
    "collapsed": false
   }
  },
  {
   "cell_type": "code",
   "execution_count": 59,
   "outputs": [],
   "source": [
    "def find_repetitions(k):\n",
    "    for j in range(matrix.shape[1] // 2):\n",
    "        for i in range(j + k, matrix.shape[1]):\n",
    "            first, sec = matrix[:, j:j + k], matrix[:, i:i + k]\n",
    "            if np.array_equal(first, sec):\n",
    "                return j, i\n",
    "    return None"
   ],
   "metadata": {
    "collapsed": false
   }
  },
  {
   "cell_type": "code",
   "execution_count": 81,
   "outputs": [
    {
     "name": "stdout",
     "output_type": "stream",
     "text": [
      "0 25 1\n",
      "0 25 2\n",
      "0 25 3\n",
      "25 78 4\n",
      "25 78 5\n",
      "25 78 6\n",
      "25 78 7\n",
      "25 78 8\n",
      "25 78 9\n",
      "25 78 10\n",
      "25 78 11\n",
      "25 78 12\n",
      "25 78 13\n",
      "25 78 14\n",
      "25 78 15\n",
      "25 78 16\n",
      "25 78 17\n",
      "25 78 18\n",
      "25 78 19\n",
      "25 78 20\n",
      "25 78 21\n",
      "25 78 22\n",
      "25 78 23\n",
      "25 78 24\n",
      "25 78 25\n",
      "25 78 26\n",
      "25 78 27\n",
      "25 78 28\n",
      "25 78 29\n",
      "25 78 30\n",
      "25 78 31\n",
      "25 78 32\n",
      "25 78 33\n",
      "25 78 34\n",
      "25 78 35\n",
      "25 78 36\n",
      "25 78 37\n",
      "25 78 38\n",
      "25 78 39\n",
      "25 78 40\n",
      "25 78 41\n",
      "25 78 42\n",
      "25 78 43\n",
      "25 78 44\n",
      "25 78 45\n",
      "25 78 46\n",
      "25 78 47\n",
      "25 78 48\n",
      "25 78 49\n",
      "25 78 50\n"
     ]
    }
   ],
   "source": [
    "k = 1\n",
    "output = []\n",
    "count = 0\n",
    "while count < 50:\n",
    "    res = find_repetitions(k)\n",
    "    if res is not None:\n",
    "        count += 1\n",
    "        j, i = res\n",
    "        print(j, i, k)\n",
    "    k += 1"
   ],
   "metadata": {
    "collapsed": false
   }
  },
  {
   "cell_type": "code",
   "execution_count": 70,
   "outputs": [
    {
     "data": {
      "text/plain": "(25, 78, 22)"
     },
     "execution_count": 70,
     "metadata": {},
     "output_type": "execute_result"
    }
   ],
   "source": [
    "output[-2]\n"
   ],
   "metadata": {
    "collapsed": false
   }
  },
  {
   "cell_type": "code",
   "execution_count": 84,
   "outputs": [
    {
     "data": {
      "text/plain": "True"
     },
     "execution_count": 84,
     "metadata": {},
     "output_type": "execute_result"
    }
   ],
   "source": [
    "np.array_equal(matrix[:, 25:25 + 53], matrix[:, 78:78 + 53])"
   ],
   "metadata": {
    "collapsed": false
   }
  },
  {
   "cell_type": "code",
   "execution_count": 82,
   "outputs": [
    {
     "data": {
      "text/plain": "53"
     },
     "execution_count": 82,
     "metadata": {},
     "output_type": "execute_result"
    }
   ],
   "source": [
    "78 - 25"
   ],
   "metadata": {
    "collapsed": false
   }
  }
 ],
 "metadata": {
  "kernelspec": {
   "display_name": "Python 3",
   "language": "python",
   "name": "python3"
  },
  "language_info": {
   "codemirror_mode": {
    "name": "ipython",
    "version": 2
   },
   "file_extension": ".py",
   "mimetype": "text/x-python",
   "name": "python",
   "nbconvert_exporter": "python",
   "pygments_lexer": "ipython2",
   "version": "2.7.6"
  }
 },
 "nbformat": 4,
 "nbformat_minor": 0
}
