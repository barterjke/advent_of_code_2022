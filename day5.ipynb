{
 "cells": [
  {
   "cell_type": "code",
   "execution_count": 26,
   "metadata": {
    "collapsed": true
   },
   "outputs": [
    {
     "data": {
      "text/plain": "array([[None, 'W', None, None, 'J', None, 'J', None, None],\n       [None, 'V', None, 'F', 'F', 'S', 'S', None, None],\n       [None, 'S', 'M', 'R', 'W', 'M', 'C', None, None],\n       [None, 'M', 'G', 'W', 'S', 'F', 'G', None, 'C'],\n       ['W', 'P', 'S', 'M', 'H', 'N', 'F', None, 'L'],\n       ['R', 'H', 'T', 'D', 'L', 'D', 'D', 'B', 'W'],\n       ['T', 'C', 'L', 'H', 'Q', 'J', 'B', 'T', 'N'],\n       ['G', 'G', 'C', 'J', 'P', 'P', 'Z', 'R', 'H']], dtype=object)"
     },
     "execution_count": 26,
     "metadata": {},
     "output_type": "execute_result"
    }
   ],
   "source": [
    "import numpy as np\n",
    "\n",
    "with open(\"res/5_1.txt\") as f:\n",
    "    lines = f.readlines()\n",
    "line = lines[:8][0]\n",
    "a = np.array([np.array([line[i] if i < len(line) and line[i] != \" \" else None for i in range(1, 4 * 9, 4)]) for line in lines[:8]])\n",
    "a\n",
    "# arr = np.matrix(a)\n",
    "# arr"
   ]
  },
  {
   "cell_type": "code",
   "execution_count": 27,
   "outputs": [
    {
     "data": {
      "text/plain": "array([[None, None, None, None, 'W', 'R', 'T', 'G'],\n       ['W', 'V', 'S', 'M', 'P', 'H', 'C', 'G'],\n       [None, None, 'M', 'G', 'S', 'T', 'L', 'C'],\n       [None, 'F', 'R', 'W', 'M', 'D', 'H', 'J'],\n       ['J', 'F', 'W', 'S', 'H', 'L', 'Q', 'P'],\n       [None, 'S', 'M', 'F', 'N', 'D', 'J', 'P'],\n       ['J', 'S', 'C', 'G', 'F', 'D', 'B', 'Z'],\n       [None, None, None, None, None, 'B', 'T', 'R'],\n       [None, None, None, 'C', 'L', 'W', 'N', 'H']], dtype=object)"
     },
     "execution_count": 27,
     "metadata": {},
     "output_type": "execute_result"
    }
   ],
   "source": [
    "a.transpose()"
   ],
   "metadata": {
    "collapsed": false
   }
  }
 ],
 "metadata": {
  "kernelspec": {
   "display_name": "Python 3",
   "language": "python",
   "name": "python3"
  },
  "language_info": {
   "codemirror_mode": {
    "name": "ipython",
    "version": 2
   },
   "file_extension": ".py",
   "mimetype": "text/x-python",
   "name": "python",
   "nbconvert_exporter": "python",
   "pygments_lexer": "ipython2",
   "version": "2.7.6"
  }
 },
 "nbformat": 4,
 "nbformat_minor": 0
}
