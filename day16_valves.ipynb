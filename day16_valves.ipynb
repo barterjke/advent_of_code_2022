{
 "cells": [
  {
   "cell_type": "code",
   "execution_count": 37,
   "outputs": [
    {
     "data": {
      "text/plain": "[('AA', 0, ['DD', 'II', 'BB']),\n ('BB', 13, ['CC', 'AA']),\n ('CC', 2, ['DD', 'BB']),\n ('DD', 20, ['CC', 'AA', 'EE']),\n ('EE', 3, ['FF', 'DD']),\n ('FF', 0, ['EE', 'GG']),\n ('GG', 0, ['FF', 'HH']),\n ('HH', 22, ['GG']),\n ('II', 0, ['AA', 'JJ']),\n ('JJ', 21, ['II'])]"
     },
     "execution_count": 37,
     "metadata": {},
     "output_type": "execute_result"
    }
   ],
   "source": [
    "with open(\"16_0.txt\") as f:\n",
    "    inputs = [(\n",
    "        (_input := line.split())[1],\n",
    "        int(_input[4].split(\"=\")[-1][:-1]),\n",
    "        [x[:-1] if x.endswith(\",\") else x for x in _input[9:]]\n",
    "    ) for line in f.read().split(\"\\n\")]\n",
    "inputs"
   ],
   "metadata": {
    "collapsed": false
   }
  },
  {
   "cell_type": "code",
   "execution_count": 38,
   "outputs": [
    {
     "data": {
      "text/plain": "{'AA': (0, ['DD', 'II', 'BB']),\n 'BB': (13, ['CC', 'AA']),\n 'CC': (2, ['DD', 'BB']),\n 'DD': (20, ['CC', 'AA', 'EE']),\n 'EE': (3, ['FF', 'DD']),\n 'FF': (0, ['EE', 'GG']),\n 'GG': (0, ['FF', 'HH']),\n 'HH': (22, ['GG']),\n 'II': (0, ['AA', 'JJ']),\n 'JJ': (21, ['II'])}"
     },
     "execution_count": 38,
     "metadata": {},
     "output_type": "execute_result"
    }
   ],
   "source": [
    "valves = {}\n",
    "for valve, rate, connected in inputs:\n",
    "    valves[valve] = (rate, connected)\n",
    "valves"
   ],
   "metadata": {
    "collapsed": false
   }
  },
  {
   "cell_type": "code",
   "execution_count": 39,
   "outputs": [],
   "source": [
    "def get_distance_matrix(start):\n",
    "    visited = {start: 0}\n",
    "    to_visit = {start}\n",
    "    while to_visit:\n",
    "        tmp = set()\n",
    "        for valve in to_visit:\n",
    "            _, connected = valves[valve]\n",
    "            for el in connected:\n",
    "                if el not in visited:\n",
    "                    tmp.add(el)\n",
    "                    visited[el] = visited[valve] + 1\n",
    "        to_visit = tmp\n",
    "    return visited"
   ],
   "metadata": {
    "collapsed": false
   }
  },
  {
   "cell_type": "code",
   "execution_count": 45,
   "outputs": [
    {
     "data": {
      "text/plain": "(528, 567, 560)"
     },
     "execution_count": 45,
     "metadata": {},
     "output_type": "execute_result"
    }
   ],
   "source": [
    "dist = get_distance_matrix('AA')\n",
    "a = (30 - dist['HH'] - 1) * valves['HH'][0]\n",
    "b = (30 - dist['JJ'] - 1) * valves['JJ'][0]\n",
    "a, b, (30 - dist['DD'] - 1) * valves['DD'][0]"
   ],
   "metadata": {
    "collapsed": false
   }
  },
  {
   "cell_type": "code",
   "execution_count": 55,
   "outputs": [
    {
     "data": {
      "text/plain": "array([[0, 1, 2, 1, 2, 3, 4, 5, 1, 2],\n       [1, 0, 1, 2, 3, 4, 5, 6, 2, 3],\n       [2, 1, 0, 1, 2, 3, 4, 5, 3, 4],\n       [1, 2, 1, 0, 1, 2, 3, 4, 2, 3],\n       [2, 3, 2, 1, 0, 1, 2, 3, 3, 4],\n       [3, 4, 3, 2, 1, 0, 1, 2, 4, 5],\n       [4, 5, 4, 3, 2, 1, 0, 1, 5, 6],\n       [5, 6, 5, 4, 3, 2, 1, 0, 6, 7],\n       [1, 2, 3, 2, 3, 4, 5, 6, 0, 1],\n       [2, 3, 4, 3, 4, 5, 6, 7, 1, 0]])"
     },
     "execution_count": 55,
     "metadata": {},
     "output_type": "execute_result"
    }
   ],
   "source": [
    "import numpy as np\n",
    "N = len(valves)\n",
    "dist = np.full(shape=(N, N), fill_value=10000)\n",
    "valve_to_ind = dict(zip(valves.keys(), range(N)))\n",
    "for valve, (rate, connected) in valves.items():\n",
    "    i = valve_to_ind[valve]\n",
    "    dist[i][i] = 0\n",
    "    for connected_valve in connected:\n",
    "        j = valve_to_ind[connected_valve]\n",
    "        dist[j][i] = 1\n",
    "        dist[i][j] = 1\n",
    "for k_valve in valves:\n",
    "    for i_valve in valves:\n",
    "        for j_valve in valves:\n",
    "            i, j, k = valve_to_ind[i_valve], valve_to_ind[j_valve], valve_to_ind[k_valve]\n",
    "            if dist[i][j] > dist[i][k] + dist[k][j]:\n",
    "                dist[i][j] =  dist[i][k] + dist[k][j]\n",
    "dist"
   ],
   "metadata": {
    "collapsed": false
   }
  },
  {
   "cell_type": "markdown",
   "source": [
    "let dist be a |V| × |V| array of minimum distances initialized to ∞ (infinity)\n",
    "for each edge (u, v) do\n",
    "    dist[u][v] ← w(u, v)  // The weight of the edge (u, v)\n",
    "for each vertex v do\n",
    "    dist[v][v] ← 0\n",
    "for k from 1 to |V|\n",
    "    for i from 1 to |V|\n",
    "        for j from 1 to |V|\n",
    "            if dist[i][j] > dist[i][k] + dist[k][j]\n",
    "                dist[i][j] ← dist[i][k] + dist[k][j]\n",
    "            end if"
   ],
   "metadata": {
    "collapsed": false
   }
  },
  {
   "cell_type": "code",
   "execution_count": 56,
   "outputs": [
    {
     "data": {
      "text/plain": "array([0, 1, 2, 1, 2, 3, 4, 5, 1, 2])"
     },
     "execution_count": 56,
     "metadata": {},
     "output_type": "execute_result"
    }
   ],
   "source": [
    "dist[valve_to_ind['AA']]"
   ],
   "metadata": {
    "collapsed": false
   }
  }
 ],
 "metadata": {
  "kernelspec": {
   "display_name": "Python 3",
   "language": "python",
   "name": "python3"
  },
  "language_info": {
   "codemirror_mode": {
    "name": "ipython",
    "version": 2
   },
   "file_extension": ".py",
   "mimetype": "text/x-python",
   "name": "python",
   "nbconvert_exporter": "python",
   "pygments_lexer": "ipython2",
   "version": "2.7.6"
  }
 },
 "nbformat": 4,
 "nbformat_minor": 0
}
