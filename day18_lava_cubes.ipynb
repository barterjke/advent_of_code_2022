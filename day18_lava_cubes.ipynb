{
 "cells": [
  {
   "cell_type": "code",
   "execution_count": 88,
   "metadata": {
    "collapsed": true
   },
   "outputs": [],
   "source": [
    "with open(\"18_1.txt\") as f:\n",
    "    inputs = [list(map(int, x.split(\",\"))) for x in f.read().split(\"\\n\")]"
   ]
  },
  {
   "cell_type": "code",
   "execution_count": 89,
   "outputs": [
    {
     "data": {
      "text/plain": "3470"
     },
     "execution_count": 89,
     "metadata": {},
     "output_type": "execute_result"
    }
   ],
   "source": [
    "import numpy as np\n",
    "\n",
    "grid = np.full(shape=(40, 40, 40), fill_value=0)\n",
    "for x, y, z in inputs:\n",
    "    grid[x, y, z] = 1\n",
    "total = 0\n",
    "for x, y, z in inputs:\n",
    "    for dx, dy, dz in ((1, 0, 0), (-1, 0, 0), (0, 1, 0), (0, -1, 0), (0, 0, 1), (0, 0, -1)):\n",
    "        total += 1 if grid[x + dx, y + dy, z + dz] != 1 else 0\n",
    "total"
   ],
   "metadata": {
    "collapsed": false
   }
  },
  {
   "cell_type": "code",
   "execution_count": 90,
   "outputs": [
    {
     "data": {
      "text/plain": "array([[[2, 2, 2, ..., 2, 2, 2],\n        [2, 2, 2, ..., 2, 2, 2],\n        [2, 2, 2, ..., 2, 2, 2],\n        ...,\n        [2, 2, 2, ..., 2, 2, 2],\n        [2, 2, 2, ..., 2, 2, 2],\n        [2, 2, 2, ..., 2, 2, 2]],\n\n       [[2, 2, 2, ..., 2, 2, 2],\n        [2, 2, 2, ..., 2, 2, 2],\n        [2, 2, 2, ..., 2, 2, 2],\n        ...,\n        [2, 2, 2, ..., 2, 2, 2],\n        [2, 2, 2, ..., 2, 2, 2],\n        [2, 2, 2, ..., 2, 2, 2]],\n\n       [[2, 2, 2, ..., 2, 2, 2],\n        [2, 2, 2, ..., 2, 2, 2],\n        [2, 2, 2, ..., 2, 2, 2],\n        ...,\n        [2, 2, 2, ..., 2, 2, 2],\n        [2, 2, 2, ..., 2, 2, 2],\n        [2, 2, 2, ..., 2, 2, 2]],\n\n       ...,\n\n       [[2, 2, 2, ..., 2, 2, 2],\n        [2, 2, 2, ..., 2, 2, 2],\n        [2, 2, 2, ..., 2, 2, 2],\n        ...,\n        [2, 2, 2, ..., 2, 2, 2],\n        [2, 2, 2, ..., 2, 2, 2],\n        [2, 2, 2, ..., 2, 2, 2]],\n\n       [[2, 2, 2, ..., 2, 2, 2],\n        [2, 2, 2, ..., 2, 2, 2],\n        [2, 2, 2, ..., 2, 2, 2],\n        ...,\n        [2, 2, 2, ..., 2, 2, 2],\n        [2, 2, 2, ..., 2, 2, 2],\n        [2, 2, 2, ..., 2, 2, 2]],\n\n       [[2, 2, 2, ..., 2, 2, 2],\n        [2, 2, 2, ..., 2, 2, 2],\n        [2, 2, 2, ..., 2, 2, 2],\n        ...,\n        [2, 2, 2, ..., 2, 2, 2],\n        [2, 2, 2, ..., 2, 2, 2],\n        [2, 2, 2, ..., 2, 2, 2]]])"
     },
     "execution_count": 90,
     "metadata": {},
     "output_type": "execute_result"
    }
   ],
   "source": [
    "# assert grid[0, 0, 0] == 0\n",
    "to_explore =  {(0, 0, 0)}\n",
    "while len(to_explore):\n",
    "    tmp = set()\n",
    "    for x, y, z in to_explore:\n",
    "        if grid[x, y, z] != 0:\n",
    "            continue\n",
    "        grid[x, y, z] = 2\n",
    "        for dx, dy, dz in ((1, 0, 0), (-1, 0, 0), (0, 1, 0), (0, -1, 0), (0, 0, 1), (0, 0, -1)):\n",
    "            if grid[x + dx, y + dy, z + dz] == 0:\n",
    "                tmp.add((x + dx, y + dy, z + dz))\n",
    "    to_explore = tmp\n",
    "grid"
   ],
   "metadata": {
    "collapsed": false
   }
  },
  {
   "cell_type": "code",
   "execution_count": 95,
   "outputs": [],
   "source": [
    "zero_elements = []\n",
    "for i in range(40):\n",
    "    for j in range(40):\n",
    "        for k in range(40):\n",
    "            if grid[i,j,k] == 0:\n",
    "                zero_elements.append((i,j,k))"
   ],
   "metadata": {
    "collapsed": false
   }
  },
  {
   "cell_type": "code",
   "execution_count": 94,
   "outputs": [
    {
     "data": {
      "text/plain": "3470"
     },
     "execution_count": 94,
     "metadata": {},
     "output_type": "execute_result"
    }
   ],
   "source": [
    "total"
   ],
   "metadata": {
    "collapsed": false
   }
  },
  {
   "cell_type": "code",
   "execution_count": 96,
   "outputs": [
    {
     "data": {
      "text/plain": "1484"
     },
     "execution_count": 96,
     "metadata": {},
     "output_type": "execute_result"
    }
   ],
   "source": [
    "total = 0\n",
    "for x, y, z in zero_elements:\n",
    "    for dx, dy, dz in ((1, 0, 0), (-1, 0, 0), (0, 1, 0), (0, -1, 0), (0, 0, 1), (0, 0, -1)):\n",
    "        total += 1 if grid[x + dx, y + dy, z + dz] == 1 else 0\n",
    "total"
   ],
   "metadata": {
    "collapsed": false
   }
  },
  {
   "cell_type": "code",
   "execution_count": 97,
   "outputs": [
    {
     "data": {
      "text/plain": "1986"
     },
     "execution_count": 97,
     "metadata": {},
     "output_type": "execute_result"
    }
   ],
   "source": [
    "3470 - 1484"
   ],
   "metadata": {
    "collapsed": false
   }
  }
 ],
 "metadata": {
  "kernelspec": {
   "display_name": "Python 3",
   "language": "python",
   "name": "python3"
  },
  "language_info": {
   "codemirror_mode": {
    "name": "ipython",
    "version": 2
   },
   "file_extension": ".py",
   "mimetype": "text/x-python",
   "name": "python",
   "nbconvert_exporter": "python",
   "pygments_lexer": "ipython2",
   "version": "2.7.6"
  }
 },
 "nbformat": 4,
 "nbformat_minor": 0
}
